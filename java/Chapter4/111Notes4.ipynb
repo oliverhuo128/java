{
 "cells": [
  {
   "cell_type": "markdown",
   "metadata": {},
   "source": [
    "## garbage collection\n",
    "\n",
    "memory in not infinte, and the free memory can be exhausted.\n",
    "\n",
    "Thus, it is possible for new to fail because there in insufficient free memory to create the desired object.\n",
    "\n",
    "We need to release memory from unused objects, some languages you'll have to do it manually however in Java we use something called garbage collection\n",
    "\n",
    "garbage collection occurs only sporadically during the execution of your program. It will not occur simply because one or more objects exist taht are no longer used.\n",
    "\n"
   ]
  },
  {
   "cell_type": "markdown",
   "metadata": {},
   "source": [
    "## This keyword\n",
    "\n",
    "Before concluding this chapter, it is necessary to introduce this.\n",
    "\n",
    "When a method is called, it is automatically passed and implicit argument that is a reference to the invoking object (that is, )"
   ]
  },
  {
   "cell_type": "code",
   "execution_count": 5,
   "metadata": {},
   "outputs": [
    {
     "name": "stdout",
     "output_type": "stream",
     "text": [
      "0\n",
      "1\n",
      "2\n",
      "3\n",
      "4\n",
      "5\n"
     ]
    }
   ],
   "source": [
    "for i in range(10):\n",
    "    if i <= 5:\n",
    "        print(i)\n",
    "    else:\n",
    "        break"
   ]
  }
 ],
 "metadata": {
  "kernelspec": {
   "display_name": "Python 3.9.12 ('base')",
   "language": "python",
   "name": "python3"
  },
  "language_info": {
   "codemirror_mode": {
    "name": "ipython",
    "version": 3
   },
   "file_extension": ".py",
   "mimetype": "text/x-python",
   "name": "python",
   "nbconvert_exporter": "python",
   "pygments_lexer": "ipython3",
   "version": "3.9.12"
  },
  "orig_nbformat": 4,
  "vscode": {
   "interpreter": {
    "hash": "23465f6008edbc5250c629784f1bf1b48a1ae8b6988468065a03957a1825eeac"
   }
  }
 },
 "nbformat": 4,
 "nbformat_minor": 2
}
