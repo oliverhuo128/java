{
 "cells": [
  {
   "cell_type": "code",
   "execution_count": 12,
   "metadata": {},
   "outputs": [],
   "source": [
    "n = 10\n",
    "d = 0\n",
    "#the 'and' operator natually short circuits\n",
    "if (d!=0) and ((n % d) == 0):\n",
    "    print('hello there')"
   ]
  }
 ],
 "metadata": {
  "kernelspec": {
   "display_name": "Python 3.9.12 ('base')",
   "language": "python",
   "name": "python3"
  },
  "language_info": {
   "codemirror_mode": {
    "name": "ipython",
    "version": 3
   },
   "file_extension": ".py",
   "mimetype": "text/x-python",
   "name": "python",
   "nbconvert_exporter": "python",
   "pygments_lexer": "ipython3",
   "version": "3.9.12"
  },
  "orig_nbformat": 4,
  "vscode": {
   "interpreter": {
    "hash": "23465f6008edbc5250c629784f1bf1b48a1ae8b6988468065a03957a1825eeac"
   }
  }
 },
 "nbformat": 4,
 "nbformat_minor": 2
}
