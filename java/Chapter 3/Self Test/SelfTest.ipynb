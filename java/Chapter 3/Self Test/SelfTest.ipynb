{
 "cells": [
  {
   "cell_type": "markdown",
   "metadata": {},
   "source": [
    "Show the general form of the if-else-if ladder;\n",
    "\n",
    "if(condition){statement;}\n",
    "else if(condition){statement;}\n",
    "else if(condition){statement;}\n",
    "else{statement;}"
   ]
  },
  {
   "cell_type": "markdown",
   "metadata": {},
   "source": [
    "3. Given\n",
    "```java\n",
    "       if(x < 10)\n",
    "         if(y > 100) {\n",
    "           if(!done) x = z;\n",
    "           else y = z; }\n",
    "         else System.out.println(\"error\"); // what if?\n",
    "```\n",
    "to what if does the last else associate?\n",
    "\n",
    "- the else associates with \n",
    "```java\n",
    "if(y > 100)\n",
    "```\n",
    "\n"
   ]
  },
  {
   "cell_type": "markdown",
   "metadata": {},
   "source": [
    "4. Show the for statement for a loop that counts from 1000 to 0 by –2.\n",
    "\n"
   ]
  },
  {
   "cell_type": "markdown",
   "metadata": {},
   "source": [
    "```java\n",
    "for(int i = 1000; i == 0; i -= 2) {}\n",
    "```"
   ]
  },
  {
   "cell_type": "markdown",
   "metadata": {},
   "source": [
    "5. Is the following fragment valid?\n",
    "```java\n",
    "       for(int i = 0; i < num; i++)\n",
    "        sum += i;\n",
    "        count = i;\n",
    "```\n",
    "\n"
   ]
  },
  {
   "cell_type": "markdown",
   "metadata": {},
   "source": [
    "this will error as i is not in the scope"
   ]
  },
  {
   "cell_type": "markdown",
   "metadata": {},
   "source": [
    "6. Explain what break does. Be sure to explain both of its forms.\n",
    "\n",
    "break allows us exit a scope or exit a loop or go to a names scope."
   ]
  },
  {
   "cell_type": "markdown",
   "metadata": {},
   "source": [
    "7. In the following fragment, after the break statement executes, what is displayed?\n",
    "\n",
    "```java\n",
    "       for(i = 0; i < 10; i++) {\n",
    "         while(running) {\n",
    "           if(x<y) break;\n",
    "            // ...\n",
    "          }\n",
    "         System.out.println(\"after while\");\n",
    "       }\n",
    "       System.out.println(\"After for\");\n",
    "```"
   ]
  },
  {
   "cell_type": "markdown",
   "metadata": {},
   "source": [
    "8. What does the following fragment print?\n",
    "\n",
    "```java\n",
    "       for(int i = 0; i<10; i++) {\n",
    "         System.out.print(i + \" \");\n",
    "         if((i%2) == 0) continue;\n",
    "         System.out.println();\n",
    "        }\n",
    "```"
   ]
  },
  {
   "cell_type": "markdown",
   "metadata": {},
   "source": []
  },
  {
   "cell_type": "markdown",
   "metadata": {},
   "source": [
    "9. The iteration expression in a for loop need not always alter the loop control variable by a fixed amount. Instead, the loop control variable can change in any arbitrary way. Using this concept, write a program that uses a for loop to generate and display the progression 1, 2, 4, 8, 16, 32, and so on."
   ]
  },
  {
   "cell_type": "markdown",
   "metadata": {},
   "source": [
    "```java\n",
    "for(i=1;;i *= 2){\n",
    "    System.out.println(i);\n",
    "}\n",
    "```"
   ]
  },
  {
   "cell_type": "code",
   "execution_count": 1,
   "metadata": {},
   "outputs": [
    {
     "name": "stdout",
     "output_type": "stream",
     "text": [
      "hello world\n"
     ]
    }
   ],
   "source": [
    "print('hello world')"
   ]
  }
 ],
 "metadata": {
  "kernelspec": {
   "display_name": "base",
   "language": "python",
   "name": "python3"
  },
  "language_info": {
   "codemirror_mode": {
    "name": "ipython",
    "version": 3
   },
   "file_extension": ".py",
   "mimetype": "text/x-python",
   "name": "python",
   "nbconvert_exporter": "python",
   "pygments_lexer": "ipython3",
   "version": "3.9.13"
  },
  "orig_nbformat": 4,
  "vscode": {
   "interpreter": {
    "hash": "ad2bdc8ecc057115af97d19610ffacc2b4e99fae6737bb82f5d7fb13d2f2c186"
   }
  }
 },
 "nbformat": 4,
 "nbformat_minor": 2
}
